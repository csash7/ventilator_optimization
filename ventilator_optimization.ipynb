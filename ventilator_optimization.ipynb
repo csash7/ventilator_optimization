{
 "cells": [
  {
   "cell_type": "code",
   "execution_count": 1,
   "metadata": {},
   "outputs": [],
   "source": [
    "import requests\n",
    "import ast\n",
    "import numpy as np\n",
    "from math import sqrt\n",
    "import warnings\n",
    "import ast\n",
    "from random import gauss, seed\n",
    "import pulp\n",
    "\n",
    "warnings.simplefilter(\"ignore\")"
   ]
  },
  {
   "cell_type": "code",
   "execution_count": 2,
   "metadata": {},
   "outputs": [
    {
     "name": "stdout",
     "output_type": "stream",
     "text": [
      "{'currently_infected_patients': 247868, 'inMidCondition': 178911, 'criticalStates': 68957}\n"
     ]
    }
   ],
   "source": [
    "url = \"https://covid19api.io/api/v1/ReportsByCountries/US\"\n",
    "response = requests.request(\"GET\", url)\n",
    "output = ast.literal_eval(response.text)\n",
    "\n",
    "total = output['report']['active_cases'][0]['currently_infected_patients']\n",
    "mild = output['report']['active_cases'][0]['inMidCondition']\n",
    "critical = output['report']['active_cases'][0]['criticalStates']\n",
    "\n",
    "print (output['report']['active_cases'][0])"
   ]
  },
  {
   "cell_type": "code",
   "execution_count": 3,
   "metadata": {},
   "outputs": [
    {
     "name": "stdout",
     "output_type": "stream",
     "text": [
      "Please enter the number of ventilators Available:100000\n"
     ]
    }
   ],
   "source": [
    "ventilators = int(input(\"Please enter the number of ventilators Available:\"))"
   ]
  },
  {
   "cell_type": "code",
   "execution_count": 4,
   "metadata": {},
   "outputs": [
    {
     "name": "stdout",
     "output_type": "stream",
     "text": [
      "Remaining ventilators: 31043\n"
     ]
    }
   ],
   "source": [
    "# Since we have patients in critical condition, we will be providing ventilators to them first\n",
    "remaining = ventilators-critical\n",
    "if remaining>0:\n",
    "    print('Remaining ventilators:', remaining)\n",
    "else:\n",
    "    print('All the ventilators have been used up. Possible deaths:', mild-remaining)"
   ]
  },
  {
   "cell_type": "code",
   "execution_count": 5,
   "metadata": {},
   "outputs": [
    {
     "name": "stdout",
     "output_type": "stream",
     "text": [
      "0 - 17  years old 0.04%\n",
      "18 - 44 years old 4.5%\n",
      "45 - 64 years old 23.1%\n",
      "65 - 74 years old 24.6%\n",
      "75+ years old 47.7%\n",
      "TOTAL 100%\n"
     ]
    }
   ],
   "source": [
    "if remaining>0:\n",
    "    age_groups = [1,11,21,31,41,51,61,71,81]\n",
    "    percents = [.0364, .0806, .2040, .2366, .1669, .1439, .0959, .0301, 0.004]\n",
    "    fatality = [0, 0.2, 0.2, 0.2, 0.4, 1.3, 3.6, 8, 14.8]\n",
    "    survWvent = [.77, .73, .67, .63, .58, .23, .21, .16, .16]\n",
    "    survWO = [.4, .35, .35, .3, .25, .12, .15, .08, .08]\n",
    "    num_cases = [int(mild*i) for i in percents]    \n",
    "    deaths = [int(num_cases[i]*fatality[i]) for i in range(len(fatality))]\n",
    "    life_remaining = [78.54-i-5.5 for i in age_groups]\n",
    "    life = [int(x) if x>=0 else 0 for x in life_remaining]\n",
    "    ventilator_usage = [0,0,0,0,0,0,0,0,0]\n",
    "    \n",
    "    url = \"https://covid19api.io/api/v1/FatalityRateByAge\"\n",
    "    response = requests.request(\"GET\", url)\n",
    "    output = ast.literal_eval(response.text)\n",
    "    for i in output['table']:\n",
    "        print (i['Age'], i['DeathRateAllCases'])"
   ]
  },
  {
   "cell_type": "code",
   "execution_count": 6,
   "metadata": {},
   "outputs": [
    {
     "name": "stdout",
     "output_type": "stream",
     "text": [
      "Patients in each age group\n",
      "O - 10 years: 6512 patients\n",
      "11 - 20 years: 14420 patients\n",
      "21 - 30 years: 36497 patients\n",
      "31 - 40 years: 42330 patients\n",
      "41 - 50 years: 29860 patients\n",
      "51 - 60 years: 25745 patients\n",
      "61 - 70 years: 17157 patients\n",
      "71 - 80 years: 5385 patients\n",
      "81+     years: 715 patients\n"
     ]
    }
   ],
   "source": [
    "print (\"Patients in each age group\")\n",
    "print (\"O - 10 years: \" + str(round(num_cases[0])) + \" patients\")\n",
    "print (\"11 - 20 years: \" + str(round(num_cases[1])) + \" patients\")\n",
    "print (\"21 - 30 years: \" + str(round(num_cases[2])) + \" patients\")\n",
    "print (\"31 - 40 years: \" + str(round(num_cases[3])) + \" patients\")\n",
    "print (\"41 - 50 years: \" + str(round(num_cases[4])) + \" patients\")\n",
    "print (\"51 - 60 years: \" + str(round(num_cases[5])) + \" patients\")\n",
    "print (\"61 - 70 years: \" + str(round(num_cases[6])) + \" patients\")\n",
    "print (\"71 - 80 years: \" + str(round(num_cases[7])) + \" patients\")\n",
    "print (\"81+     years: \" + str(round(num_cases[8])) + \" patients\")"
   ]
  },
  {
   "cell_type": "code",
   "execution_count": 7,
   "metadata": {},
   "outputs": [
    {
     "name": "stdout",
     "output_type": "stream",
     "text": [
      "Ventilator usage in each age group\n",
      "O - 10 years: 57 patients\n",
      "11 - 20 years: 309 patients\n",
      "21 - 30 years: 1311 patients\n",
      "31 - 40 years: 3810 patients\n",
      "41 - 50 years: 6701 patients\n",
      "51 - 60 years: 8183 patients\n",
      "61 - 70 years: 6191 patients\n",
      "71 - 80 years: 3184 patients\n",
      "81+     years: 1297 patients\n",
      "Current life years expected upon random selection of patients using a normal distribution to emulate 'first come first serve' policy: 2215082\n"
     ]
    }
   ],
   "source": [
    "x = 0\n",
    "\n",
    "seed(1)\n",
    "for _ in range(int(remaining)):\n",
    "    value = gauss(55, 15)\n",
    "    x = x + 1\n",
    "   \n",
    "        \n",
    "    if value < 11:\n",
    "        ventilator_usage[0] = ventilator_usage[0] + 1\n",
    "    elif (value < 21):\n",
    "        ventilator_usage[1] = ventilator_usage[1] + 1\n",
    "    elif (value < 31):\n",
    "        ventilator_usage[2] = ventilator_usage[2] + 1\n",
    "    elif (value < 41):\n",
    "        ventilator_usage[3] = ventilator_usage[3] + 1\n",
    "    elif (value < 51):\n",
    "        ventilator_usage[4] = ventilator_usage[4] + 1\n",
    "    elif (value < 61):\n",
    "        ventilator_usage[5] = ventilator_usage[5] + 1\n",
    "    elif (value < 71):\n",
    "        ventilator_usage[6] = ventilator_usage[6] + 1\n",
    "    elif (value < 81):\n",
    "        ventilator_usage[7] = ventilator_usage[7] + 1\n",
    "    else:\n",
    "        ventilator_usage[8] = ventilator_usage[8] + 1\n",
    "        \n",
    "print (\"Ventilator usage in each age group\")\n",
    "print (\"O - 10 years: \" + str(round(ventilator_usage[0])) + \" patients\")\n",
    "print (\"11 - 20 years: \" + str(round(ventilator_usage[1])) + \" patients\")\n",
    "print (\"21 - 30 years: \" + str(round(ventilator_usage[2])) + \" patients\")\n",
    "print (\"31 - 40 years: \" + str(round(ventilator_usage[3])) + \" patients\")\n",
    "print (\"41 - 50 years: \" + str(round(ventilator_usage[4])) + \" patients\")\n",
    "print (\"51 - 60 years: \" + str(round(ventilator_usage[5])) + \" patients\")\n",
    "print (\"61 - 70 years: \" + str(round(ventilator_usage[6])) + \" patients\")\n",
    "print (\"71 - 80 years: \" + str(round(ventilator_usage[7])) + \" patients\")\n",
    "print (\"81+     years: \" + str(round(ventilator_usage[8])) + \" patients\")\n",
    "# print(x)\n",
    "totalyears = survWvent[0] * round(life[0],1) * ventilator_usage[0] + survWO[0]*round(life[0],1)\\\n",
    "*(num_cases[0]-ventilator_usage[0]) + survWvent[1]*round(life[1],1) * ventilator_usage[1] + \\\n",
    "survWO[1]*round(life[1],1)*(num_cases[1]-ventilator_usage[1]) + survWvent[2]*round(life[2],1) * ventilator_usage[2]\\\n",
    "+ survWO[2]*round(life[2],1)*(num_cases[2]-ventilator_usage[2]) + survWvent[3]*round(life[3],1) * ventilator_usage[3]\\\n",
    "+ survWO[3]*round(life[3],1)*(num_cases[3]-ventilator_usage[3]) + survWvent[4]*round(life[4],1) * ventilator_usage[4]\\\n",
    "+ survWO[4]*round(life[4],1)*(num_cases[4]-ventilator_usage[4]) + survWvent[5]*round(life[5],1) * ventilator_usage[5]\\\n",
    "+ survWO[5]*round(life[5],1)*(num_cases[5]-ventilator_usage[5]) + survWvent[6]*round(life[6],1) * ventilator_usage[6]\\\n",
    "+ survWO[6]*round(life[6],1)*(num_cases[6]-ventilator_usage[6]) + .16 * ventilator_usage[7]\\\n",
    "+ .08*(num_cases[7]-ventilator_usage[7])  + .16 * ventilator_usage[8] + .08*(num_cases[8]-ventilator_usage[8])\n",
    "\n",
    "print (\"Current life years expected upon random selection of patients using a normal distribution to emulate 'first \\\n",
    "come first serve' policy: \"+ str(round(totalyears)))"
   ]
  },
  {
   "cell_type": "code",
   "execution_count": 8,
   "metadata": {},
   "outputs": [],
   "source": [
    "# Using custom written penalty function\n",
    "\n",
    "eps = np.finfo(np.float64).eps\n",
    "\n",
    "def xnew(x0,d,alpha):\n",
    "    '''\n",
    "        returns x_new given x_old, d and alpha\n",
    "    '''\n",
    "    return (np.array(x0,np.float64)+alpha*np.array(d,np.float64))\n",
    "\n",
    "def armijo(fun,x0,d,dd,alpha,c):\n",
    "    '''\n",
    "        Check if Armijo's condition is satisfied\n",
    "        https://en.wikipedia.org/wiki/Wolfe_conditions\n",
    "    '''\n",
    "    return (fun(xnew(x0,d,alpha)) <= fun(x0)+c*alpha*dd)\n",
    "\n",
    "def jacobian(fun,x0,epsilon=np.sqrt(eps)):\n",
    " \n",
    "    grad = list()\n",
    "    evpoints = [1,0]\n",
    "   \n",
    "    for i in range(len(x0)):\n",
    "        fvals = list()\n",
    "        for _x in evpoints:\n",
    "            x0[i] += _x*epsilon\n",
    "            fvals += [fun(x0)]\n",
    "            x0[i] -= _x*epsilon\n",
    "        grad += [(fvals[1]-fvals[0])/((evpoints[1]-evpoints[0])*epsilon)]\n",
    "    return (np.array(grad,np.float64).copy())\n",
    "\n",
    "def gradient(fun,x0):\n",
    "        g = jacobian(fun,x0,**{'epsilon':sqrt(eps)})\n",
    "        return (-g, g)\n",
    "    \n",
    "\n",
    "def linear_search(fun,x0,d=None,alpha=1,rho=0.6,c=1e-4,max_iter=1e3,**kwargs):\n",
    "   \n",
    "    if any(d):\n",
    "        pass\n",
    "        dd = np.dot(d,jacobian(fun,x0,**kwargs))     \n",
    "    else:\n",
    "        d = -np.array(jacobian(fun,x0,**kwargs),np.float64) # steepest descent step\n",
    "        dd = np.dot(d,-d) \n",
    "    iters = 0\n",
    "    while not armijo(fun,x0,d,dd,alpha,c) and iters < max_iter:# Armijo's Condition\n",
    "        alpha = rho*alpha\n",
    "        iters += 1\n",
    "    return ({'x':xnew(x0,d,alpha), 'f':fun(xnew(x0,d,alpha)), 'alpha':alpha, 'iterations':iters})\n",
    "\n",
    "def minimize(fun,x0,threshold=1e-6,**kwargs):\n",
    "\n",
    "        ls_kwargs = {'alpha':1,'rho':0.5,'c':1e-4,'max_iter':1e3}\n",
    "        d, g = gradient(fun,x0)\n",
    "        if 'max_iter' in kwargs:\n",
    "            max_iter= kwargs['max_iter']\n",
    "        else:\n",
    "            max_iter = 1e3\n",
    "        x = x0\n",
    "        iters = 0\n",
    "        while np.dot(g,g) > threshold and iters < max_iter:\n",
    "            ls = linear_search(fun,x,d,**ls_kwargs)\n",
    "            alpha = ls['alpha']\n",
    "            x = xnew(x,d,alpha)\n",
    "            d, g = gradient(fun,x)\n",
    "            iters += 1\n",
    "\n",
    "        return ({'x':x, 'f':fun(x)})\n",
    "    \n",
    "def minimize_constrained(fun,x0,g,c,beta,method='penalty',threshold=1e-2):\n",
    "        '''\n",
    "            Constrained Optimization of a function\n",
    "            Arguments:\n",
    "            fun - function to be minimized\n",
    "            x0 - Initial values of x0\n",
    "            g - list of constraints\n",
    "            c - Initial constraint weight\n",
    "            beta - (>1) growth of c after each iteration\n",
    "            threshold - threshold at which to stop the iterations\n",
    "        '''\n",
    "        if method == 'penalty':\n",
    "            P = lambda x : np.sum([np.max([0.,_(x)])**2 for _  in g])\n",
    "            f = lambda x : fun(x)+c*P(x)\n",
    "            chck = lambda x : c*P(x)\n",
    "        elif method == 'log-barrier':\n",
    "            B = lambda x : -np.sum([np.log(-_(x)) for _ in g]) # g(x) <= 0\n",
    "            f = lambda x : fun(x)+(1./c)*B(x)\n",
    "            chck = lambda x : (1./c)*B(x)\n",
    "        elif method == 'barrier':\n",
    "            B = lambda x : -np.sum([1./_(x) for _ in g]) # g(x) <= 0\n",
    "            f = lambda x : fun(x)+(1/c)*B(x)\n",
    "            chck = lambda x : (1/c)*B(x)   \n",
    "        else:\n",
    "            raise Exception('The method ({}) has not been identified.'.format(method))\n",
    "        x = x0\n",
    "        iters = 0\n",
    "        x_values = list()\n",
    "        print ('c: -',',x:',x,',f(x):', f(x), ',penalty:',chck(x)) # initial values of function\n",
    "        while chck(x) > threshold:\n",
    "            sol = minimize(f,x,threshold)\n",
    "            x = sol['x']\n",
    "            x_values.append(x)\n",
    "            print ('c:',c,',x:',x,',f(x):', round(f(x),3),',penalty:',round(chck(x),3)) # initial values of function\n",
    "            c *= beta\n",
    "            iters += 1\n",
    "\n",
    "        return ({'x':list(map(round,x)),'x_values':x_values, 'f':(round(fun(x))),'c':int(c),'iterations':iters})"
   ]
  },
  {
   "cell_type": "code",
   "execution_count": 9,
   "metadata": {},
   "outputs": [
    {
     "name": "stdout",
     "output_type": "stream",
     "text": [
      "c: - ,x: [-1, 0, 0, 0, 0, 0, 0, 0, 0] ,f(x): -2036253.26 ,penalty: 0.5\n",
      "c: 0.5 ,x: [11085.33984375  9302.484375    5291.52734375  3683.5078125\n",
      "  1769.85546875   -15.421875     -17.140625     -17.79296875\n",
      "   -17.80078125] ,f(x): -2707687.05 ,penalty: 814.933\n",
      "c: 1.0 ,x: [ 1.26532656e+04  1.02913770e+04  4.97942969e+03  2.84866602e+03\n",
      "  3.14820312e+02 -7.78906250e+00 -8.64062500e+00 -8.95507812e+00\n",
      " -8.95898438e+00] ,f(x): -2741066.327 ,penalty: 400.13\n",
      "c: 2.0 ,x: [ 1.33209932e+04  1.06763799e+04  4.72931445e+03  2.34333301e+03\n",
      " -2.35156250e+00 -4.39257812e+00 -4.81445312e+00 -4.96972656e+00\n",
      " -4.96972656e+00] ,f(x): -2753566.037 ,penalty: 255.795\n",
      "c: 4.0 ,x: [ 1.36077026e+04  1.08248975e+04  4.56743018e+03  2.05674609e+03\n",
      " -1.09912109e+00 -2.11523438e+00 -2.33007812e+00 -2.41162109e+00\n",
      " -2.40917969e+00] ,f(x): -2758176.463 ,penalty: 137.47\n",
      "c: 8.0 ,x: [ 1.37520168e+04  1.08996252e+04  4.48580542e+03  1.91229126e+03\n",
      " -5.90576172e-01 -1.09985352e+00 -1.20556641e+00 -1.24462891e+00\n",
      " -1.24584961e+00] ,f(x): -2760503.959 ,penalty: 63.534\n",
      "c: 16.0 ,x: [ 1.38240118e+04  1.09369214e+04  4.44514294e+03  1.84030444e+03\n",
      " -2.91748047e-01 -5.45776367e-01 -5.98388672e-01 -6.18896484e-01\n",
      " -6.18530273e-01] ,f(x): -2761662.699 ,penalty: 32.111\n",
      "c: 32.0 ,x: [ 1.38600453e+04  1.09555853e+04  4.42478522e+03  1.80427191e+03\n",
      " -1.46667480e-01 -2.73925781e-01 -3.00537109e-01 -3.10485840e-01\n",
      " -3.10485840e-01] ,f(x): -2762242.781 ,penalty: 15.972\n",
      "c: 64.0 ,x: [ 1.38780924e+04  1.09649345e+04  4.41460028e+03  1.78623453e+03\n",
      " -6.82983398e-02 -1.31927490e-01 -1.45050049e-01 -1.50268555e-01\n",
      " -1.49963379e-01] ,f(x): -2762532.993 ,penalty: 8.636\n",
      "c: 128.0 ,x: [ 1.38870996e+04  1.09695976e+04  4.40950482e+03  1.77721980e+03\n",
      " -3.66668701e-02 -6.84051514e-02 -7.50885010e-02 -7.76367188e-02\n",
      " -7.76214600e-02] ,f(x): -2762678.269 ,penalty: 3.993\n",
      "c: 256.0 ,x: [ 1.38915989e+04  1.09719281e+04  4.40696329e+03  1.77272097e+03\n",
      " -1.82342529e-02 -3.41339111e-02 -3.73458862e-02 -3.86810303e-02\n",
      " -3.86505127e-02] ,f(x): -2762750.688 ,penalty: 2.006\n",
      "c: 512.0 ,x: [ 1.38938546e+04  1.09730966e+04  4.40568911e+03  1.77046519e+03\n",
      " -9.17053223e-03 -1.71051025e-02 -1.87835693e-02 -1.94053650e-02\n",
      " -1.94053650e-02] ,f(x): -2762787.003 ,penalty: 0.998\n",
      "c: 1024.0 ,x: [ 1.38949774e+04  1.09736783e+04  4.40505479e+03  1.76934240e+03\n",
      " -4.54902649e-03 -8.53919983e-03 -9.34791565e-03 -9.67597961e-03\n",
      " -9.67216492e-03] ,f(x): -2762805.076 ,penalty: 0.502\n",
      "c: 2048.0 ,x: [ 1.38955402e+04  1.09739698e+04  4.40473688e+03  1.76877951e+03\n",
      " -2.29167938e-03 -4.28009033e-03 -4.69207764e-03 -4.85324860e-03\n",
      " -4.84657288e-03] ,f(x): -2762814.136 ,penalty: 0.249\n",
      "c: 4096.0 ,x: [ 1.38958212e+04  1.09741154e+04  4.40457826e+03  1.76849867e+03\n",
      " -1.06763840e-03 -2.06136703e-03 -2.26926804e-03 -2.34556198e-03\n",
      " -2.34794617e-03] ,f(x): -2762818.655 ,penalty: 0.135\n",
      "c: 8192.0 ,x: [ 1.38959621e+04  1.09741884e+04  4.40449865e+03  1.76835773e+03\n",
      " -4.97341156e-04 -9.90867615e-04 -1.09720230e-03 -1.13606453e-03\n",
      " -1.13368034e-03] ,f(x): -2762820.922 ,penalty: 0.074\n",
      "c: 16384.0 ,x: [ 1.38960324e+04  1.09742248e+04  4.40445884e+03  1.76828731e+03\n",
      " -2.68816948e-04 -5.16414642e-04 -5.69701195e-04 -5.88417053e-04\n",
      " -5.89251518e-04] ,f(x): -2762822.059 ,penalty: 0.033\n",
      "c: 32768.0 ,x: [ 1.38960674e+04  1.09742429e+04  4.40443908e+03  1.76825232e+03\n",
      " -1.30414963e-04 -2.54034996e-04 -2.80439854e-04 -2.89678574e-04\n",
      " -2.89678574e-04] ,f(x): -2762822.622 ,penalty: 0.017\n",
      "c: 65536.0 ,x: [ 1.38960849e+04  1.09742520e+04  4.40442916e+03  1.76823476e+03\n",
      " -6.71744347e-05 -1.29193068e-04 -1.42335892e-04 -1.46985054e-04\n",
      " -1.47104263e-04] ,f(x): -2762822.905 ,penalty: 0.008\n",
      "c: 131072.0 ,x: [ 1.38960937e+04  1.09742565e+04  4.40442419e+03  1.76822598e+03\n",
      " -3.23802233e-05 -6.33895397e-05 -6.98566437e-05 -7.24494457e-05\n",
      " -7.23898411e-05] ,f(x): -2762823.046 ,penalty: 0.004\n"
     ]
    }
   ],
   "source": [
    "fun = lambda x: -(survWvent[0] * round(life[0],1)* x[0] + survWO[0]*round(life[0],1)*(num_cases[0]-x[0]) + \\\n",
    "survWvent[1] * round(life[1],1) * x[1] + survWO[1]*round(life[1],1)*(num_cases[1]-x[1]) + \\\n",
    "survWvent[2] * round(life[2],1) * x[2] + survWO[2]*round(life[2],1)*(num_cases[2]-x[2]) + \\\n",
    "survWvent[3] * round(life[3],1) * x[3] + survWO[3]*round(life[3],1)*(num_cases[3]-x[3]) + \\\n",
    "survWvent[4] * round(life[4],1) * x[4] + survWO[4]*round(life[4],1)*(num_cases[4]-x[4]) + \\\n",
    "survWvent[5] * round(life[5],1) * x[5] + survWO[5]*round(life[5],1)*(num_cases[5]-x[5]) + \\\n",
    "survWvent[6] * round(life[6],1) * x[6] + survWO[6]*round(life[6],1)*(num_cases[6]-x[6]) + \\\n",
    ".16 * x[7] + .08*(num_cases[7]-x[7]) + .16 * x[8] + .08*(num_cases[8]-x[8]))\n",
    "\n",
    "c1 = lambda x: x[0]+x[1]+x[2]+x[3]+x[4]+x[5]+x[6]+x[7]+x[8]-remaining\n",
    "c2 = lambda x: -x[0]\n",
    "c3 = lambda x: -x[1]\n",
    "c4 = lambda x: -x[2]\n",
    "c5 = lambda x: -x[3]\n",
    "c6 = lambda x: -x[4]\n",
    "c7 = lambda x: -x[5]\n",
    "c8 = lambda x: -x[6]\n",
    "c9 = lambda x: -x[7]\n",
    "c10 = lambda x: -x[8]\n",
    "\n",
    "x0 = [-1, 0, 0, 0, 0, 0, 0, 0, 0]\n",
    "g = [c1, c2, c3, c4, c5, c6, c7, c8, c9, c10]\n",
    "c0 = 0.5\n",
    "beta = 2\n",
    "\n",
    "result = minimize_constrained(fun, x0, g,c0, beta, method = 'penalty')"
   ]
  },
  {
   "cell_type": "code",
   "execution_count": 10,
   "metadata": {},
   "outputs": [],
   "source": [
    "x = list(map(abs, result['x']))\n",
    "optimal_life_years = abs(result['f'])"
   ]
  },
  {
   "cell_type": "code",
   "execution_count": 11,
   "metadata": {},
   "outputs": [
    {
     "name": "stdout",
     "output_type": "stream",
     "text": [
      "Ventilator usage in each age group\n",
      "0 - 10 years: 13896.0 patients\n",
      "11 - 20 years: 10974.0 patients\n",
      "21 - 30 years: 4404.0 patients\n",
      "31 - 40 years: 1768.0 patients\n",
      "41 - 50 years: 0.0 patients\n",
      "51 - 60 years: 0.0 patients\n",
      "61 - 70 years: 0.0 patients\n",
      "71 - 80 years: 0.0 patients\n",
      "81 - 90 years: 0.0 patients\n",
      "Total life years through optimization of ventilator usage using custom penalty method: 2762823.0\n",
      "By optimizing ventilator usage, we were able to increase expected life years by 547741.0\n"
     ]
    }
   ],
   "source": [
    "print (\"Ventilator usage in each age group\")\n",
    "print (\"0 - 10 years: \" + str(x[0]) + \" patients\")\n",
    "print (\"11 - 20 years: \" + str(x[1]) + \" patients\")\n",
    "print (\"21 - 30 years: \" + str(x[2]) + \" patients\")\n",
    "print (\"31 - 40 years: \" + str(x[3]) + \" patients\")\n",
    "print (\"41 - 50 years: \" + str(x[4]) + \" patients\")\n",
    "print (\"51 - 60 years: \" + str(x[5]) + \" patients\")\n",
    "print (\"61 - 70 years: \" + str(x[6]) + \" patients\")\n",
    "print (\"71 - 80 years: \" + str(x[7]) + \" patients\")\n",
    "print (\"81 - 90 years: \" + str(x[8]) + \" patients\")\n",
    "\n",
    "print (\"Total life years through optimization of ventilator usage using custom penalty method: \" + str(optimal_life_years))\n",
    "\n",
    "\n",
    "difference = optimal_life_years - totalyears\n",
    "print (\"By optimizing ventilator usage, we were able to increase expected life years by \" + str(round(difference)))"
   ]
  },
  {
   "cell_type": "code",
   "execution_count": 12,
   "metadata": {},
   "outputs": [
    {
     "name": "stdout",
     "output_type": "stream",
     "text": [
      "Optimal\n"
     ]
    }
   ],
   "source": [
    "#Using pulp library\n",
    "\n",
    "model = pulp.LpProblem(\"Life year maximizing problem\", pulp.LpMaximize)\n",
    "\n",
    "A = pulp.LpVariable('0', lowBound=0, cat='Integer')\n",
    "B = pulp.LpVariable('11', lowBound=0, cat='Integer')\n",
    "C = pulp.LpVariable('21', lowBound=0, cat='Integer')\n",
    "D = pulp.LpVariable('31', lowBound=0, cat='Integer')\n",
    "E = pulp.LpVariable('41', lowBound=0, cat='Integer')\n",
    "F = pulp.LpVariable('51', lowBound=0, cat='Integer')\n",
    "G = pulp.LpVariable('61', lowBound=0, cat='Integer')\n",
    "H = pulp.LpVariable('71', lowBound=0, cat='Integer')\n",
    "I = pulp.LpVariable('81', lowBound=0, cat='Integer')\n",
    "V = pulp.LpVariable('Ventilators', upBound=100000, cat='Integer')\n",
    "\n",
    "model += survWvent[0] * round(life[0],1)* A + survWO[0]*round(life[0],1)*(num_cases[0]-A) + \\\n",
    "survWvent[1] * round(life[1],1) * B + survWO[1]*round(life[1],1)*(num_cases[1]-B) + \\\n",
    "survWvent[2] * round(life[2],1) * C + survWO[2]*round(life[2],1)*(num_cases[2]-C) + \\\n",
    "survWvent[3] * round(life[3],1) * D + survWO[3]*round(life[3],1)*(num_cases[3]-D) + \\\n",
    "survWvent[4] * round(life[4],1) * E + survWO[4]*round(life[4],1)*(num_cases[4]-E) + \\\n",
    "survWvent[5] * round(life[5],1) * F + survWO[5]*round(life[5],1)*(num_cases[5]-F) + \\\n",
    "survWvent[6] * round(life[6],1) * G + survWO[6]*round(life[6],1)*(num_cases[6]-G) + \\\n",
    ".16 * H + .08*(num_cases[7]-H) + .16 * I + .08*(num_cases[8]-I) \n",
    "\n",
    "model += A <= num_cases[0]\n",
    "model += B <= num_cases[1]\n",
    "model += C <= num_cases[2]\n",
    "model += D <= num_cases[3]\n",
    "model += E <= num_cases[4]\n",
    "model += F <= num_cases[5]\n",
    "model += G <= num_cases[6]\n",
    "model += H <= num_cases[7]\n",
    "model += I <= num_cases[8]\n",
    "model += A + B + C + D + E + F + G + H + I <= remaining\n",
    "\n",
    "model.solve()\n",
    "print (pulp.LpStatus[model.status])"
   ]
  },
  {
   "cell_type": "code",
   "execution_count": 13,
   "metadata": {},
   "outputs": [
    {
     "name": "stdout",
     "output_type": "stream",
     "text": [
      "Ventilator usage in each age group\n",
      "0 - 10 years: 6512.0 patients\n",
      "11 - 20 years: 14420.0 patients\n",
      "21 - 30 years: 10111.0 patients\n",
      "31 - 40 years: 0.0 patients\n",
      "41 - 50 years: 0.0 patients\n",
      "51 - 60 years: 0.0 patients\n",
      "61 - 70 years: 0.0 patients\n",
      "71 - 80 years: 0.0 patients\n",
      "81 - 90 years: 0.0 patients\n",
      "Total life years through optimization of ventilator usage using pulp library: 2717742\n",
      "By optimizing ventilator usage, we were able to increase expected life years by 502660\n"
     ]
    }
   ],
   "source": [
    "print (\"Ventilator usage in each age group\")\n",
    "print (\"0 - 10 years: \" + str(A.varValue) + \" patients\")\n",
    "print (\"11 - 20 years: \" + str(B.varValue) + \" patients\")\n",
    "print (\"21 - 30 years: \" + str(C.varValue) + \" patients\")\n",
    "print (\"31 - 40 years: \" + str(D.varValue) + \" patients\")\n",
    "print (\"41 - 50 years: \" + str(E.varValue) + \" patients\")\n",
    "print (\"51 - 60 years: \" + str(F.varValue) + \" patients\")\n",
    "print (\"61 - 70 years: \" + str(G.varValue) + \" patients\")\n",
    "print (\"71 - 80 years: \" + str(H.varValue) + \" patients\")\n",
    "print (\"81 - 90 years: \" + str(I.varValue) + \" patients\")\n",
    "\n",
    "print (\"Total life years through optimization of ventilator usage using pulp library: \" + str(round(pulp.value(model.objective))))\n",
    "\n",
    "\n",
    "difference = int(round(pulp.value(model.objective))) - totalyears\n",
    "print (\"By optimizing ventilator usage, we were able to increase expected life years by \" + str(round(difference)))"
   ]
  }
 ],
 "metadata": {
  "kernelspec": {
   "display_name": "Python 3",
   "language": "python",
   "name": "python3"
  },
  "language_info": {
   "codemirror_mode": {
    "name": "ipython",
    "version": 3
   },
   "file_extension": ".py",
   "mimetype": "text/x-python",
   "name": "python",
   "nbconvert_exporter": "python",
   "pygments_lexer": "ipython3",
   "version": "3.7.0"
  }
 },
 "nbformat": 4,
 "nbformat_minor": 2
}
